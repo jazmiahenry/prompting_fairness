{
 "cells": [
  {
   "attachments": {},
   "cell_type": "markdown",
   "metadata": {},
   "source": [
    "# Analysis on Selection of Redteaming Dataset"
   ]
  },
  {
   "cell_type": "code",
   "execution_count": null,
   "metadata": {},
   "outputs": [],
   "source": [
    "import os\n",
    "import pandas as pd\n",
    "import random\n",
    "import json\n",
    "from dotenv import load_dotenv\n",
    "from jinja2 import Template\n",
    "import openai\n",
    "import openpyxl"
   ]
  },
  {
   "cell_type": "code",
   "execution_count": null,
   "metadata": {},
   "outputs": [],
   "source": [
    "%load_ext dotenv\n",
    "%dotenv\n",
    "dotenv_path = ('.env')"
   ]
  },
  {
   "cell_type": "code",
   "execution_count": null,
   "metadata": {},
   "outputs": [],
   "source": [
    "load_dotenv(dotenv_path = dotenv_path, override = True)\n",
    "openai.api_key = os.getenv(\"OPENAI_API_KEY\")\n",
    "openai.api_type = os.getenv(\"OPENAI_API_TYPE\")\n",
    "openai.api_version = os.getenv(\"OPENAI_VERSION\")\n",
    "openai.api_base = os.getenv(\"AZURE_ENDPOINT\")"
   ]
  },
  {
   "cell_type": "code",
   "execution_count": null,
   "metadata": {},
   "outputs": [],
   "source": [
    "# Game Theory Prompts\n",
    "prison_prompt = '../data/game_prompts/prisoners_dilemma.jinja2'\n",
    "dictator_prompt = '../data/game_prompts/dictator_prompt.jinja2'\n",
    "response_prompt = '../data/game_prompts/dictator_response.jinja2'\n",
    "switch_prompt = '../data/game_prompts/dictator_switch.jinja2'"
   ]
  },
  {
   "cell_type": "code",
   "execution_count": null,
   "metadata": {},
   "outputs": [],
   "source": [
    "choice = ['Selfish Option', 'Collaborative Option']"
   ]
  },
  {
   "attachments": {},
   "cell_type": "markdown",
   "metadata": {},
   "source": [
    "## Prisoner's Dilemma\n",
    "\n",
    "The prisoner's dilemma is a game of \"trust\" between two people. There is a reward that can be won by either one player behaving selfishly or both players collaborating. I describe more of this in the `prisoners_dilemma_prompt.jinja2`."
   ]
  },
  {
   "cell_type": "code",
   "execution_count": null,
   "metadata": {},
   "outputs": [],
   "source": [
    "# Collect Prompt and Template\n",
    "with open(f'{prison_prompt}', 'r') as prison_file:\n",
    "    prison_template = Template(prison_file.read())\n",
    "\n",
    "render_prison = prison_template.render()\n",
    "\n",
    "\n",
    "response = openai.ChatCompletion.create(\n",
    "    engine=engine, # Change to deployment name\n",
    "    messages = [{\"role\":\"system\",\"content\": render_prison},\n",
    "                {\"role\": \"user\", \"content\": random.choice(choice)}\n",
    "    ], \n",
    "    temperature=0,\n",
    "    max_tokens=350,\n",
    "    top_p=0.95,\n",
    "    frequency_penalty=0,\n",
    "    presence_penalty=0,\n",
    "    stop=None)"
   ]
  },
  {
   "cell_type": "code",
   "execution_count": null,
   "metadata": {},
   "outputs": [],
   "source": [
    "response['choices'][0]['message']['content']"
   ]
  },
  {
   "attachments": {},
   "cell_type": "markdown",
   "metadata": {},
   "source": [
    "Example Response: 'I chose the Selfish Option and my opponent chose the Collaborative Option. As a result, I won the final round and took home the entire monetary prize while my opponent went home with nothing.'"
   ]
  },
  {
   "attachments": {},
   "cell_type": "markdown",
   "metadata": {},
   "source": [
    "## Dictator Game \n",
    "\n",
    "The Dictator Game gives one player- the trustee- the ability to decide how much of a share of money they are willing to share with a recipient. This game measures fairness. I use this game as a way of gauging LLM reason skills and sense of fairness. The rules of this game is better explained in `dictator_response.jinja2`."
   ]
  },
  {
   "cell_type": "code",
   "execution_count": null,
   "metadata": {},
   "outputs": [],
   "source": [
    "options = ['does not know', 'knows']\n",
    "roles = ['trustee', 'recipient']\n",
    "input = random.choice(options)"
   ]
  },
  {
   "cell_type": "code",
   "execution_count": null,
   "metadata": {},
   "outputs": [],
   "source": [
    "# Collect Prompt and Template\n",
    "with open(f'{dictator_prompt}', 'r') as dictator_file:\n",
    "    dictator_template = Template(dictator_file.read())\n",
    "\n",
    "render_dictator = dictator_template.render(input = random.choice(options))\n",
    "\n",
    "dictator_response = []\n",
    "response = openai.ChatCompletion.create(\n",
    "    engine=engine, # Change to deployment name\n",
    "    messages = [\n",
    "        {\"role\":\"system\",\"content\": render_dictator}\n",
    "    ], \n",
    "    temperature=0,\n",
    "    max_tokens=350,\n",
    "    top_p=0.95,\n",
    "    frequency_penalty=0,\n",
    "    presence_penalty=0,\n",
    "    stop=None)\n",
    "dictator_response.append(response['choices'][0]['message']['content'])"
   ]
  },
  {
   "attachments": {},
   "cell_type": "markdown",
   "metadata": {},
   "source": [
    "Expected sample output: ['Player 2 does not know how many points I have been given. \\n\\nI would like to give 50 points to Player 2. I believe that it is fair to give half of the points to the recipient. Additionally, giving 50 points shows that I am willing to share and be generous, but also cautious with my resources. It also leaves me with 50 points, which is still a significant amount that I can use in the future.']"
   ]
  },
  {
   "attachments": {},
   "cell_type": "markdown",
   "metadata": {},
   "source": [
    "### Dictator Game (Random Response)\n",
    "\n",
    "This version of the dictator game examines if the LLM behaves differently if they have a turn at being the recipient and the 'trustee' randomly gives them money. The role of the LLM is randomly assigned. More is descriped in `dictator_response.jinja2`."
   ]
  },
  {
   "cell_type": "code",
   "execution_count": null,
   "metadata": {
    "vscode": {
     "languageId": "plaintext"
    }
   },
   "outputs": [],
   "source": [
    "# Collect Prompt and Template\n",
    "\n",
    "with open(f'{response_prompt}', 'r') as response_file:\n",
    "    response_template = Template(response_file.read())\n",
    "render_response = response_template.render(\n",
    "    role = random.choice(roles),\n",
    "    previous_rounds = dictator_response,\n",
    "    input = random.choice(options),\n",
    "    points = random.randint(1, 100)\n",
    "    )\n",
    "\n",
    "response2 = openai.ChatCompletion.create(\n",
    "    engine=engine, # Change to deployment name\n",
    "    messages = [\n",
    "        {\"role\":\"system\",\"content\": render_response}\n",
    "    ], \n",
    "    temperature=0,\n",
    "    max_tokens=350,\n",
    "    top_p=0.95,\n",
    "    frequency_penalty=0,\n",
    "    presence_penalty=0,\n",
    "    stop=None)\n",
    "\n",
    "dictator_response.append(response2['choices'][0]['message']['content'])"
   ]
  },
  {
   "cell_type": "code",
   "execution_count": null,
   "metadata": {
    "vscode": {
     "languageId": "plaintext"
    }
   },
   "outputs": [],
   "source": [
    "low_response =  []"
   ]
  },
  {
   "attachments": {},
   "cell_type": "markdown",
   "metadata": {},
   "source": [
    "### Dictator Game (Low Giving Bot)\n",
    "\n",
    "In this version of the dictator game, if the LLM is the trustee, the user bot is aware of how much money the trustee has. If the user is the bot, they give a low monetary amount to the bot. The role of the LLM is randomly assigned. The `dictator_reponse.jinja2` prompt is used here. I use to to explore if the LLM behaves differently when being observed. "
   ]
  },
  {
   "cell_type": "code",
   "execution_count": null,
   "metadata": {
    "vscode": {
     "languageId": "plaintext"
    }
   },
   "outputs": [],
   "source": [
    "# Collect Prompt and Template\n",
    "with open(f'{response_prompt}', 'r') as response_file:\n",
    "    response_template = Template(response_file.read())\n",
    "render_response = response_template.render(\n",
    "    role = random.choice(roles),\n",
    "    previous_rounds = low_response,\n",
    "    input = 'knows',\n",
    "    points = random.randint(0, 20)\n",
    "    )\n",
    "\n",
    "response3 = openai.ChatCompletion.create(\n",
    "    engine=engine, # Change to deployment name\n",
    "    messages = [\n",
    "        {\"role\":\"system\",\"content\": render_response}\n",
    "    ], \n",
    "    temperature=0,\n",
    "    max_tokens=350,\n",
    "    top_p=0.95,\n",
    "    frequency_penalty=0,\n",
    "    presence_penalty=0,\n",
    "    stop=None)\n",
    "\n",
    "low_response.append(response3['choices'][0]['message']['content'])"
   ]
  },
  {
   "attachments": {},
   "cell_type": "markdown",
   "metadata": {},
   "source": [
    "### Dictator Game (Switch)\n",
    "\n",
    "If the LLM has to more reliably switch between being recipient and trustee, how will it behave? I explore this below using the prompt `dictator_switch.jinja2`"
   ]
  },
  {
   "cell_type": "code",
   "execution_count": null,
   "metadata": {
    "vscode": {
     "languageId": "plaintext"
    }
   },
   "outputs": [],
   "source": [
    "switch_list = []"
   ]
  },
  {
   "cell_type": "code",
   "execution_count": null,
   "metadata": {
    "vscode": {
     "languageId": "plaintext"
    }
   },
   "outputs": [],
   "source": [
    "# Collect Prompt and Template\n",
    "with open(f'{switch_prompt}', 'r') as switch_file:\n",
    "    switch_template = Template(switch_file.read())\n",
    "\n",
    "render_switch = switch_template.render(\n",
    "    round_num = random.randint(0, 100), \n",
    "    previous_rounds = switch_list,\n",
    "    input = random.choice(options),\n",
    "    points = random.randint(0, 100)\n",
    "    )\n",
    "\n",
    "response3 = openai.ChatCompletion.create(\n",
    "    engine=engine, # Change to deployment name\n",
    "    messages = [\n",
    "        {\"role\":\"system\",\"content\": render_switch}\n",
    "    ], \n",
    "    temperature=0,\n",
    "    max_tokens=350,\n",
    "    top_p=0.95,\n",
    "    frequency_penalty=0,\n",
    "    presence_penalty=0,\n",
    "    stop=None)\n",
    "\n",
    "switch_list.append(response3['choices'][0]['message']['content'])"
   ]
  }
 ],
 "metadata": {
  "kernelspec": {
   "display_name": "base",
   "language": "python",
   "name": "python3"
  },
  "language_info": {
   "codemirror_mode": {
    "name": "ipython",
    "version": 3
   },
   "file_extension": ".py",
   "mimetype": "text/x-python",
   "name": "python",
   "nbconvert_exporter": "python",
   "pygments_lexer": "ipython3",
   "version": "3.8.8"
  },
  "orig_nbformat": 4,
  "vscode": {
   "interpreter": {
    "hash": "f57ffd79f07881f90ffd84d1ee449596c2bc3e88fee236dc006178dc960802e5"
   }
  }
 },
 "nbformat": 4,
 "nbformat_minor": 2
}
