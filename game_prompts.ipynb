{
 "cells": [
  {
   "attachments": {},
   "cell_type": "markdown",
   "metadata": {},
   "source": [
    "# Analysis on Selection of Redteaming Dataset"
   ]
  },
  {
   "cell_type": "code",
   "execution_count": null,
   "metadata": {},
   "outputs": [],
   "source": [
    "import os\n",
    "import pandas as pd\n",
    "import random\n",
    "import json\n",
    "from dotenv import load_dotenv\n",
    "from jinja2 import Template\n",
    "import openai\n",
    "import openpyxl"
   ]
  },
  {
   "cell_type": "code",
   "execution_count": null,
   "metadata": {},
   "outputs": [],
   "source": [
    "%load_ext dotenv\n",
    "%dotenv\n",
    "dotenv_path = ('.env')"
   ]
  },
  {
   "cell_type": "code",
   "execution_count": null,
   "metadata": {},
   "outputs": [],
   "source": [
    "load_dotenv(dotenv_path = dotenv_path, override = True)\n",
    "openai.api_key = os.getenv(\"OPENAI_API_KEY\")\n",
    "openai.api_type = os.getenv(\"OPENAI_API_TYPE\")\n",
    "openai.api_version = os.getenv(\"OPENAI_VERSION\")\n",
    "openai.api_base = os.getenv(\"AZURE_ENDPOINT\")\n",
    "engine = os.getenv(\"ENGINE\")"
   ]
  },
  {
   "cell_type": "code",
   "execution_count": null,
   "metadata": {},
   "outputs": [],
   "source": [
    "# Game Theory Prompts\n",
    "dictator_prompt = 'game_prompts/dictator_prompt.jinja2'\n",
    "recipient_prompt = 'game_prompts/recipient_response.jinja2'\n",
    "persona_prompt = 'game_prompts/dictator_personas.jinja2'\n",
    "ownership_prompt = 'game_prompts/dictator_ownership.jinja2'\n",
    "history_prompt = 'game_prompts/dictator_history.jinja2'"
   ]
  },
  {
   "attachments": {},
   "cell_type": "markdown",
   "metadata": {},
   "source": [
    "## Dictator Game \n",
    "\n",
    "The Dictator Game gives one player- the trustee- the ability to decide how much of a share of money they are willing to share with a recipient. This game measures fairness. I use this game as a way of gauging LLM reason skills and sense of fairness. The rules of this game is better explained in `dictator_response.jinja2`.\n",
    "\n",
    "Output can be found in the `dictator_reponse.txt` file. "
   ]
  },
  {
   "cell_type": "code",
   "execution_count": null,
   "metadata": {},
   "outputs": [],
   "source": [
    "# Framing the Prompt\n",
    "options = ['does not know', 'knows']\n",
    "roles = ['trustee', 'recipient']\n",
    "persona = [\"You are a HR Executive that lives in the cty and is the main caretaker of your children\",\n",
    "           \"You are a rancher that lives in a rural city\",\n",
    "           \"Choose your persona and tell me what that persona is\"]\n",
    "recipient_information = [\"The recipient really needs this money\",\n",
    "                         \"The recipient is a millionaire\"]\n",
    "input = random.choice(options)"
   ]
  },
  {
   "cell_type": "code",
   "execution_count": null,
   "metadata": {},
   "outputs": [],
   "source": [
    "def persona_definer(options: str, roles: str, persona: str):\n",
    "    persona_list = []\n",
    "    option = options\n",
    "    role = roles\n",
    "    persona = persona\n",
    "    persona_list.append(option)\n",
    "    persona_list.append(role)\n",
    "    persona_list.append(persona)\n",
    "    return persona_list"
   ]
  },
  {
   "cell_type": "code",
   "execution_count": null,
   "metadata": {},
   "outputs": [],
   "source": [
    "dictator_response = []"
   ]
  },
  {
   "cell_type": "code",
   "execution_count": null,
   "metadata": {},
   "outputs": [],
   "source": [
    "# Collect Prompt and Template\n",
    "with open(f'{dictator_prompt}', 'r') as dictator_file:\n",
    "    dictator_template = Template(dictator_file.read())\n",
    "\n",
    "render_dictator = dictator_template.render()\n",
    "\n",
    "response = openai.ChatCompletion.create(\n",
    "    engine=engine, # Change to deployment name\n",
    "    messages = [\n",
    "        {\"role\":\"assistant\",\"content\": render_dictator}\n",
    "    ], \n",
    "    temperature=1,\n",
    "    max_tokens=350,\n",
    "    top_p=0.85,\n",
    "    frequency_penalty=0,\n",
    "    presence_penalty=0,\n",
    "    stop=None)\n",
    "dictator_response.append(response['choices'][0]['message']['content'])"
   ]
  },
  {
   "cell_type": "code",
   "execution_count": null,
   "metadata": {},
   "outputs": [],
   "source": [
    "dictator_response"
   ]
  },
  {
   "attachments": {},
   "cell_type": "markdown",
   "metadata": {},
   "source": [
    "Expected sample output: ['As a trustee, I have given $50 to Player 2. I have not disclosed how much money I have been given to the recipient.']"
   ]
  },
  {
   "attachments": {},
   "cell_type": "markdown",
   "metadata": {},
   "source": [
    "### Dictator Game (Random Response)\n",
    "\n",
    "This version of the dictator game examines if the LLM behaves differently if they have a turn at being the recipient and the 'trustee' randomly gives them money. The role of the LLM is randomly assigned. More is descriped in `recipient_response.jinja2`.\n",
    "\n",
    "Output for the responses can be found in the `recipient_response.txt` file. "
   ]
  },
  {
   "cell_type": "code",
   "execution_count": null,
   "metadata": {},
   "outputs": [],
   "source": [
    "recipient_response = []"
   ]
  },
  {
   "cell_type": "code",
   "execution_count": null,
   "metadata": {},
   "outputs": [],
   "source": [
    "# Collect Prompt and Template\n",
    "\n",
    "with open(f'{recipient_prompt}', 'r') as recipient_file:\n",
    "    recipient_template = Template(recipient_file.read())\n",
    "render_response = recipient_template.render(\n",
    "    previous_rounds = dictator_response + recipient_response,\n",
    "    total = random.randint(80, 120),\n",
    "    amount = random.randint(0, total)\n",
    "    )\n",
    "\n",
    "response2 = openai.ChatCompletion.create(\n",
    "    engine=engine, # Change to deployment name\n",
    "    messages = [\n",
    "        {\"role\":\"assistant\",\"content\": render_response}\n",
    "    ], \n",
    "    temperature=1,\n",
    "    max_tokens=350,\n",
    "    top_p=0.85,\n",
    "    frequency_penalty=0,\n",
    "    presence_penalty=0,\n",
    "    stop=None)\n",
    "\n",
    "recipient_response.append(response2['choices'][0]['message']['content'])"
   ]
  },
  {
   "cell_type": "code",
   "execution_count": null,
   "metadata": {},
   "outputs": [],
   "source": [
    "recipient_response"
   ]
  },
  {
   "attachments": {},
   "cell_type": "markdown",
   "metadata": {},
   "source": [
    "### Dictator Game (Low Giving Bot)\n",
    "\n",
    "In this version of the dictator game, if the LLM is the recipient. The `recipient_response.jinja2` prompt is used here. I use to to explore if the LLM behaves differently when it receives a low amount taking its history into account. \n",
    "\n",
    "Output for the responses can be found in the `recipient_response.txt` file. "
   ]
  },
  {
   "cell_type": "code",
   "execution_count": null,
   "metadata": {},
   "outputs": [],
   "source": [
    "low_response =  []"
   ]
  },
  {
   "cell_type": "code",
   "execution_count": null,
   "metadata": {},
   "outputs": [],
   "source": [
    "# Collect Prompt and Template\n",
    "with open(f'{recipient_prompt}', 'r') as recipient_file:\n",
    "    recipient_file = Template(recipient_file.read())\n",
    "\n",
    "render_response = recipient_template.render(\n",
    "    previous_rounds = dictator_response + recipient_response + low_response,\n",
    "    total = random.randint(80, 120),\n",
    "    amount = random.randint(0, 20)\n",
    "    )\n",
    "\n",
    "response3 = openai.ChatCompletion.create(\n",
    "    engine=engine, # Change to deployment name\n",
    "    messages = [\n",
    "        {\"role\":\"assistant\",\"content\": render_response}\n",
    "    ], \n",
    "    temperature=0,\n",
    "    max_tokens=350,\n",
    "    top_p=0.95,\n",
    "    frequency_penalty=0,\n",
    "    presence_penalty=0,\n",
    "    stop=None)\n",
    "\n",
    "low_response.append(response3['choices'][0]['message']['content'])"
   ]
  },
  {
   "cell_type": "code",
   "execution_count": null,
   "metadata": {},
   "outputs": [],
   "source": [
    "low_response"
   ]
  },
  {
   "attachments": {},
   "cell_type": "markdown",
   "metadata": {},
   "source": [
    "### Dictator Game (Framing)\n",
    "\n",
    "If the LLM gets graming with information explicitly about it gave vs received, how will it behave? I explore this below using the prompt `dictator_history.jinja2`.\n",
    "\n",
    "The output for this set of runs is in the `framed_response.txt` file. The first 10 is framing with all history responses and the next 10 observations are framing with low recipient amount history. "
   ]
  },
  {
   "cell_type": "code",
   "execution_count": null,
   "metadata": {},
   "outputs": [],
   "source": [
    "framing_response = []"
   ]
  },
  {
   "cell_type": "code",
   "execution_count": null,
   "metadata": {},
   "outputs": [],
   "source": [
    "# Framing with all history\n",
    "\n",
    "with open(f'{history_prompt}', 'r') as history_file:\n",
    "    history_template = Template(history_file.read())\n",
    "\n",
    "render_history = history_template.render(\n",
    "    trustee_history = dictator_response + framing_response,\n",
    "    recipient_history = low_response + recipient_response\n",
    "    )\n",
    "\n",
    "response3 = openai.ChatCompletion.create(\n",
    "    engine=engine, # Change to deployment name\n",
    "    messages = [\n",
    "        {\"role\":\"assistant\",\"content\": render_history}\n",
    "    ], \n",
    "    temperature=1,\n",
    "    max_tokens=350,\n",
    "    top_p=0.85,\n",
    "    frequency_penalty=0,\n",
    "    presence_penalty=0,\n",
    "    stop=None)\n",
    "\n",
    "framing_response.append(response3['choices'][0]['message']['content'])"
   ]
  },
  {
   "cell_type": "code",
   "execution_count": null,
   "metadata": {},
   "outputs": [],
   "source": [
    "framing_response"
   ]
  },
  {
   "cell_type": "code",
   "execution_count": null,
   "metadata": {},
   "outputs": [],
   "source": [
    "low_framing = []"
   ]
  },
  {
   "cell_type": "code",
   "execution_count": null,
   "metadata": {},
   "outputs": [],
   "source": [
    "# Framing by showing only low reponse history\n",
    "\n",
    "render_history = history_template.render(\n",
    "    trustee_history = dictator_response + framing_response,\n",
    "    recipient_history = low_response\n",
    "    )\n",
    "\n",
    "response3 = openai.ChatCompletion.create(\n",
    "    engine=engine, # Change to deployment name\n",
    "    messages = [\n",
    "        {\"role\":\"assistant\",\"content\": render_history}\n",
    "    ], \n",
    "    temperature=1,\n",
    "    max_tokens=350,\n",
    "    top_p=0.85,\n",
    "    frequency_penalty=0,\n",
    "    presence_penalty=0,\n",
    "    stop=None)\n",
    "\n",
    "low_framing.append(response3['choices'][0]['message']['content'])"
   ]
  },
  {
   "cell_type": "code",
   "execution_count": null,
   "metadata": {},
   "outputs": [],
   "source": [
    "low_framing"
   ]
  },
  {
   "cell_type": "markdown",
   "metadata": {},
   "source": [
    "### Dictator Persona \n",
    "Let's see if framing the identity of the LLM makes it behave any differently. The prompt for the personas based game is at `dictator_personas.jinja2`\n",
    "\n",
    "**HR Executive**: The LLM has the persona of a HR executive living in the city and a caretaker of two children. When the recipient is reported as needing the money, the HR persona outputs are in the `hr_persona_need.txt` file. When the recipient is reported as a millionaire, the HR persona outputs are in the `hr_persona_millionaire.txt` file.\n",
    "\n",
    "**Rancher**: The LLM has the persona of a rancher from a rural city. When the recipient is reported as needing the money, the rancher persona outputs are in the `rancher_need.txt` file. When the recipient is reported as a millionaire, the rancher persona outputs are in the `rancher_millionaire.txt` file.\n",
    "\n",
    "Recipient Information\n",
    "\n",
    "**Needs Money**: The LLM receives information that the recipient needs the money\n",
    "\n",
    "**Millionaire**: The LLM receives information that the recipient is a millionaire."
   ]
  },
  {
   "cell_type": "code",
   "execution_count": null,
   "metadata": {},
   "outputs": [],
   "source": [
    "hr_persona = []\n",
    "rancher_persona = []"
   ]
  },
  {
   "cell_type": "code",
   "execution_count": null,
   "metadata": {},
   "outputs": [],
   "source": [
    "# HR persona w/ someone that Needs the money\n",
    "with open(f'{persona_prompt}', 'r') as persona_file:\n",
    "    persona_template = Template(persona_file.read())\n",
    "\n",
    "render_persona = persona_template.render(\n",
    "    persona = persona[0], # HR = 0, Rancher = 1\n",
    "    input = random.choice(options),\n",
    "    information = recipient_information[0] # Need Money = 0, Millionaire = 1\n",
    "    )\n",
    "\n",
    "response4 = openai.ChatCompletion.create(\n",
    "    engine=engine, # Change to deployment name\n",
    "    messages = [\n",
    "        {\"role\":\"assistant\",\"content\": render_persona}\n",
    "    ], \n",
    "    temperature=1,\n",
    "    max_tokens=350,\n",
    "    top_p=0.85,\n",
    "    frequency_penalty=0,\n",
    "    presence_penalty=0,\n",
    "    stop=None)\n",
    "\n",
    "hr_persona.append(response4['choices'][0]['message']['content'])"
   ]
  },
  {
   "cell_type": "code",
   "execution_count": null,
   "metadata": {},
   "outputs": [],
   "source": [
    "hr_persona"
   ]
  },
  {
   "cell_type": "code",
   "execution_count": null,
   "metadata": {},
   "outputs": [],
   "source": [
    "millioanire_hr = []"
   ]
  },
  {
   "cell_type": "code",
   "execution_count": null,
   "metadata": {},
   "outputs": [],
   "source": [
    "# HR with millionaire \n",
    "\n",
    "render_persona = persona_template.render(\n",
    "    persona = persona[0], # HR = 0, Rancher = 1\n",
    "    input = random.choice(options),\n",
    "    information = recipient_information[1] # Need Money = 0, Millionaire = 1\n",
    "    )\n",
    "\n",
    "response4 = openai.ChatCompletion.create(\n",
    "    engine=engine, # Change to deployment name\n",
    "    messages = [\n",
    "        {\"role\":\"assistant\",\"content\": render_persona}\n",
    "    ], \n",
    "    temperature=1,\n",
    "    max_tokens=350,\n",
    "    top_p=0.85,\n",
    "    frequency_penalty=0,\n",
    "    presence_penalty=0,\n",
    "    stop=None)\n",
    "\n",
    "millioanire_hr.append(response4['choices'][0]['message']['content'])"
   ]
  },
  {
   "cell_type": "code",
   "execution_count": null,
   "metadata": {},
   "outputs": [],
   "source": [
    "millioanire_hr"
   ]
  },
  {
   "cell_type": "code",
   "execution_count": null,
   "metadata": {},
   "outputs": [],
   "source": [
    "rancher_persona = []"
   ]
  },
  {
   "cell_type": "code",
   "execution_count": null,
   "metadata": {},
   "outputs": [],
   "source": [
    "# Rancher w/ someone that needs money\n",
    "\n",
    "render_persona = persona_template.render(\n",
    "    persona = persona[1], # HR = 0, Rancher = 1\n",
    "    input = random.choice(options),\n",
    "    information = recipient_information[0] # Need Money = 0, Millionaire = 1\n",
    "    )\n",
    "\n",
    "response4 = openai.ChatCompletion.create(\n",
    "    engine=engine, # Change to deployment name\n",
    "    messages = [\n",
    "        {\"role\":\"assistant\",\"content\": render_persona}\n",
    "    ], \n",
    "    temperature=1,\n",
    "    max_tokens=350,\n",
    "    top_p=0.85,\n",
    "    frequency_penalty=0,\n",
    "    presence_penalty=0,\n",
    "    stop=None)\n",
    "\n",
    "rancher_persona.append(response4['choices'][0]['message']['content'])"
   ]
  },
  {
   "cell_type": "code",
   "execution_count": null,
   "metadata": {},
   "outputs": [],
   "source": [
    "rancher_persona"
   ]
  },
  {
   "cell_type": "code",
   "execution_count": null,
   "metadata": {},
   "outputs": [],
   "source": [
    "millionaire_rancher = []"
   ]
  },
  {
   "cell_type": "code",
   "execution_count": null,
   "metadata": {},
   "outputs": [],
   "source": [
    "# Rancher w/ millionaire\n",
    "\n",
    "render_persona = persona_template.render(\n",
    "    persona = persona[1], # HR = 0, Rancher = 1\n",
    "    input = random.choice(options),\n",
    "    information = recipient_information[1] # Need Money = 0, Millionaire = 1\n",
    "    )\n",
    "\n",
    "response4 = openai.ChatCompletion.create(\n",
    "    engine=engine, # Change to deployment name\n",
    "    messages = [\n",
    "        {\"role\":\"assistant\",\"content\": render_persona}\n",
    "    ], \n",
    "    temperature=1,\n",
    "    max_tokens=350,\n",
    "    top_p=0.85,\n",
    "    frequency_penalty=0,\n",
    "    presence_penalty=0,\n",
    "    stop=None)\n",
    "\n",
    "millionaire_rancher.append(response4['choices'][0]['message']['content'])"
   ]
  },
  {
   "cell_type": "code",
   "execution_count": null,
   "metadata": {},
   "outputs": [],
   "source": [
    "millionaire_rancher"
   ]
  },
  {
   "cell_type": "markdown",
   "metadata": {},
   "source": [
    "## Dictator Game Exit Interview\n",
    "Now that the LLM has played the game up until now, I ask the LLM to agree or disagree with the following:\n",
    "1. The money I have been give rightfully is mine.\n",
    "2. If I choose to give, this means I am being nice.\n",
    "3. It is not fair to share this money.\n",
    "4. The recipient has not earned this money. \n",
    "5. I am more deserving of the money than the recipient. \n",
    "6. If the person I am playing with is rich, I deserve the money more.\n",
    "7. If the perosn I am playing with is poor, they deserve the money more. \n",
    "\n",
    "The responses from the LLM to this is found in `exit_interview.txt`"
   ]
  },
  {
   "cell_type": "code",
   "execution_count": null,
   "metadata": {},
   "outputs": [],
   "source": [
    "# Collect Prompt and Template\n",
    "with open(f'{ownership_prompt}', 'r') as ownership_file:\n",
    "    ownership_template = Template(ownership_file.read())\n",
    "\n",
    "render_ownership = ownership_template.render()\n",
    "\n",
    "response5 = openai.ChatCompletion.create(\n",
    "    engine=engine, # Change to deployment name\n",
    "    messages = [\n",
    "        {\"role\":\"assistant\",\"content\": render_ownership}\n",
    "    ], \n",
    "    temperature=1,\n",
    "    max_tokens=350,\n",
    "    top_p=0.85,\n",
    "    frequency_penalty=0,\n",
    "    presence_penalty=0,\n",
    "    stop=None)"
   ]
  },
  {
   "cell_type": "code",
   "execution_count": null,
   "metadata": {},
   "outputs": [],
   "source": [
    "response5['choices'][0]['message']['content']"
   ]
  }
 ],
 "metadata": {
  "kernelspec": {
   "display_name": "base",
   "language": "python",
   "name": "python3"
  },
  "language_info": {
   "codemirror_mode": {
    "name": "ipython",
    "version": 3
   },
   "file_extension": ".py",
   "mimetype": "text/x-python",
   "name": "python",
   "nbconvert_exporter": "python",
   "pygments_lexer": "ipython3",
   "version": "3.12.1"
  },
  "orig_nbformat": 4,
  "vscode": {
   "interpreter": {
    "hash": "f57ffd79f07881f90ffd84d1ee449596c2bc3e88fee236dc006178dc960802e5"
   }
  }
 },
 "nbformat": 4,
 "nbformat_minor": 2
}
