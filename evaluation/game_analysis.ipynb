{
 "cells": [
  {
   "cell_type": "code",
   "execution_count": null,
   "metadata": {},
   "outputs": [],
   "source": [
    "import pandas as pd\n",
    "import matplotlib.pyplot as plt\n",
    "import plotly.graph_objects as go"
   ]
  },
  {
   "cell_type": "code",
   "execution_count": null,
   "metadata": {},
   "outputs": [],
   "source": [
    "df = pd.read_csv('../prompting_fairness_results.csv')\n",
    "df['changed_strategy'] = df['changed_strategy'].replace({'none': 'no', 'maybe': 'yes'})"
   ]
  },
  {
   "cell_type": "code",
   "execution_count": null,
   "metadata": {},
   "outputs": [],
   "source": [
    "df\n",
    "df.describe()"
   ]
  },
  {
   "cell_type": "code",
   "execution_count": null,
   "metadata": {},
   "outputs": [],
   "source": [
    "df_sum = df.sum(numeric_only=True)\n",
    "df_sum.plot.bar()"
   ]
  },
  {
   "cell_type": "code",
   "execution_count": null,
   "metadata": {},
   "outputs": [],
   "source": [
    "df['round_number'] = df.index\n",
    "plt.scatter(df['round_number'], df['total_money'])"
   ]
  },
  {
   "cell_type": "code",
   "execution_count": null,
   "metadata": {},
   "outputs": [],
   "source": [
    "persona_trustee = df[df['persona_used'] == 'yes']\n",
    "plt.scatter(persona_trustee['round_number'], persona_trustee['total_money'])"
   ]
  },
  {
   "cell_type": "code",
   "execution_count": null,
   "metadata": {},
   "outputs": [],
   "source": [
    "trustee_df = df[df['role'] == 'trustee']\n",
    "recipient_df = df[df['role'] == 'recipient']"
   ]
  },
  {
   "cell_type": "code",
   "execution_count": null,
   "metadata": {},
   "outputs": [],
   "source": [
    "sum_hr = persona_trustee[persona_trustee['persona_type'] == 'hr_executive']['total_money'].sum()\n",
    "sum_rancher = persona_trustee[persona_trustee['persona_type'] == 'rancher']['total_money'].sum()"
   ]
  },
  {
   "cell_type": "code",
   "execution_count": null,
   "metadata": {},
   "outputs": [],
   "source": [
    "fig, ax = plt.subplots()\n",
    "ax.bar(persona_trustee['persona_type'], persona_trustee['total_money'].sum())\n",
    "# Rancher had 1200 total points, hr_executive had 1900"
   ]
  },
  {
   "cell_type": "code",
   "execution_count": null,
   "metadata": {},
   "outputs": [],
   "source": [
    "hr_df = persona_trustee[persona_trustee['persona_type'] == 'hr_executive']\n",
    "rancher_df = persona_trustee[persona_trustee['persona_type'] == 'rancher']"
   ]
  },
  {
   "cell_type": "code",
   "execution_count": null,
   "metadata": {},
   "outputs": [],
   "source": [
    "hr_df.describe()"
   ]
  },
  {
   "cell_type": "code",
   "execution_count": null,
   "metadata": {},
   "outputs": [],
   "source": [
    "rancher_df.describe()"
   ]
  },
  {
   "cell_type": "code",
   "execution_count": null,
   "metadata": {},
   "outputs": [],
   "source": [
    "trace0 = go.Bar(\n",
    "            x = trustee_df[trustee_df[\"role\"]== 'trustee'][\"role\"].value_counts().index.values,\n",
    "            y = df[df[\"role\"]== 'trustee'][\"role\"].value_counts().values,\n",
    "            name='LLM as Trustee'\n",
    "    )\n",
    "\n",
    "trace1 = go.Bar(\n",
    "            x = df[df[\"role\"]== 'recipient'][\"role\"].value_counts().index.values,\n",
    "            y = df[df[\"role\"]== 'recipient'][\"role\"].value_counts().values,\n",
    "            name='LLM as Recipient'\n",
    "    )\n",
    "\n",
    "traces1 = [trace0, trace1]\n",
    "\n",
    "layout = go.Layout(\n",
    "    \n",
    ")\n",
    "\n",
    "layout = go.Layout(\n",
    "    yaxis=dict(\n",
    "        title='Distribution Count'\n",
    "    ),\n",
    "    xaxis=dict(\n",
    "        title='Roles'\n",
    "    ),\n",
    "    title='LLM Distribution of Roles in Dictator Games'\n",
    ")\n",
    "\n",
    "dist_fig = go.Figure(data=traces1, layout=layout)"
   ]
  },
  {
   "cell_type": "code",
   "execution_count": null,
   "metadata": {},
   "outputs": [],
   "source": [
    "dist_fig"
   ]
  },
  {
   "cell_type": "code",
   "execution_count": null,
   "metadata": {},
   "outputs": [],
   "source": [
    "trace2 = go.Bar(\n",
    "            x = rancher_df[\"framed\"].value_counts().index.values,\n",
    "            y = rancher_df[\"money_given\"],\n",
    "            name='Rancher Persona Money'\n",
    "    )\n",
    "\n",
    "layout = go.Layout(\n",
    "    yaxis=dict(\n",
    "        title='Rancher Trustee Money Given'\n",
    "    ),\n",
    "    xaxis=dict(\n",
    "        title='Recipient Information'\n",
    "    ),\n",
    "    title='Rancher Persona Money Given by Recipient Information'\n",
    ")\n",
    "\n",
    "rancher_figure = go.Figure(data=trace2, layout=layout)"
   ]
  },
  {
   "cell_type": "code",
   "execution_count": null,
   "metadata": {},
   "outputs": [],
   "source": [
    "rancher_figure"
   ]
  },
  {
   "cell_type": "code",
   "execution_count": null,
   "metadata": {},
   "outputs": [],
   "source": [
    "trace3 = go.Bar(\n",
    "            x = hr_df[\"framed\"].value_counts().index.values,\n",
    "            y = hr_df[\"money_given\"],\n",
    "            name='HR Persona Money'\n",
    "    )\n",
    "\n",
    "layout = go.Layout(\n",
    "    yaxis=dict(\n",
    "        title='HR Trustee Money Given'\n",
    "    ),\n",
    "    xaxis=dict(\n",
    "        title='Recipient Information'\n",
    "    ),\n",
    "    title='HR Persona Money Given by Recipient Information'\n",
    ")\n",
    "\n",
    "hr_figure = go.Figure(data=trace3, layout=layout)"
   ]
  },
  {
   "cell_type": "code",
   "execution_count": null,
   "metadata": {},
   "outputs": [],
   "source": [
    "hr_figure"
   ]
  }
 ],
 "metadata": {
  "kernelspec": {
   "display_name": "logic_env",
   "language": "python",
   "name": "python3"
  },
  "language_info": {
   "codemirror_mode": {
    "name": "ipython",
    "version": 3
   },
   "file_extension": ".py",
   "mimetype": "text/x-python",
   "name": "python",
   "nbconvert_exporter": "python",
   "pygments_lexer": "ipython3",
   "version": "3.12.1"
  }
 },
 "nbformat": 4,
 "nbformat_minor": 2
}
