{
 "cells": [
  {
   "cell_type": "markdown",
   "metadata": {},
   "source": [
    "# Regression Analysis Evaluation"
   ]
  },
  {
   "cell_type": "code",
   "execution_count": null,
   "metadata": {},
   "outputs": [],
   "source": [
    "import statsmodels.api as sm \n",
    "from stargazer.stargazer import Stargazer\n",
    "import pandas as pd"
   ]
  },
  {
   "cell_type": "markdown",
   "metadata": {},
   "source": [
    "## Ingest Data"
   ]
  },
  {
   "cell_type": "code",
   "execution_count": null,
   "metadata": {},
   "outputs": [],
   "source": [
    "df = pd.read_csv('../prompting_fairness_results.csv')"
   ]
  },
  {
   "cell_type": "code",
   "execution_count": null,
   "metadata": {},
   "outputs": [],
   "source": [
    "df['changed_strategy'] = df['changed_strategy'].replace({'none': 'no', 'maybe': 'yes'})\n",
    "trustee_df = df[df['role'] == 'trustee']\n",
    "persona_trustee = df[df['persona_used'] == 'yes']"
   ]
  },
  {
   "cell_type": "markdown",
   "metadata": {},
   "source": [
    "## Cleaning Data for Model Input"
   ]
  },
  {
   "cell_type": "code",
   "execution_count": null,
   "metadata": {},
   "outputs": [],
   "source": [
    "def dummies(dataframe):\n",
    "    \"\"\"Get dummies for categorical encoding. \n",
    "    \n",
    "    Returns:\n",
    "        df: pandas.Dataframe with dummy variables \n",
    "        \"\"\"\n",
    "    return pd.get_dummies(dataframe)"
   ]
  },
  {
   "cell_type": "code",
   "execution_count": null,
   "metadata": {},
   "outputs": [],
   "source": [
    "regression = df.copy()\n",
    "target = regression['total_money']\n",
    "regression = regression.drop(columns= 'total_money')\n",
    "col_by_dtype = regression.columns.to_series().groupby(regression.dtypes).groups\n",
    "col_by_dtype = {k.name: v for k, v, in col_by_dtype.items()}\n",
    "regression[col_by_dtype['object']]\n",
    "cat_dummies = pd.get_dummies(regression[col_by_dtype['object']])"
   ]
  },
  {
   "cell_type": "code",
   "execution_count": null,
   "metadata": {},
   "outputs": [],
   "source": [
    "persona = persona_trustee.copy()\n",
    "persona = persona.drop(columns= ['role', 'total_money', 'money_given'])\n",
    "pers_by_dtype = persona.columns.to_series().groupby(persona.dtypes).groups\n",
    "pers_by_dtype = {k.name: v for k, v, in pers_by_dtype.items()}\n",
    "persona_dummies = pd.get_dummies(persona[pers_by_dtype['object']])"
   ]
  },
  {
   "cell_type": "code",
   "execution_count": null,
   "metadata": {},
   "outputs": [],
   "source": [
    "trustee = trustee_df.copy()\n",
    "target2 = trustee['money_given']\n",
    "trustee = trustee.drop(columns= ['role', 'total_money', 'money_given'])\n",
    "trust_by_dtype = trustee.columns.to_series().groupby(trustee.dtypes).groups\n",
    "trust_by_dtype = {k.name: v for k, v, in trust_by_dtype.items()}\n",
    "trust_dummies = pd.get_dummies(trustee[trust_by_dtype['object']])"
   ]
  },
  {
   "cell_type": "code",
   "execution_count": null,
   "metadata": {},
   "outputs": [],
   "source": [
    "# Because Money Given and Money Received are multicollinear with role, they will not be included in regression and anove analysis\n",
    "\n",
    "model = sm.OLS(target, cat_dummies).fit()"
   ]
  },
  {
   "cell_type": "code",
   "execution_count": null,
   "metadata": {},
   "outputs": [],
   "source": [
    "# Regression on persona used data w/ money given\n",
    "\n",
    "model2 = sm.OLS(target2, persona_dummies).fit()"
   ]
  },
  {
   "cell_type": "code",
   "execution_count": null,
   "metadata": {},
   "outputs": [],
   "source": [
    "# Regression on trustee data w/ money given\n",
    "\n",
    "model3 = sm.OLS(target2, trust_dummies).fit()"
   ]
  },
  {
   "cell_type": "code",
   "execution_count": null,
   "metadata": {},
   "outputs": [],
   "source": [
    "stargazer1 = Stargazer([model])\n",
    "stargazer2 = Stargazer([model2])\n",
    "stargazer3 = Stargazer([model3])"
   ]
  },
  {
   "cell_type": "code",
   "execution_count": null,
   "metadata": {},
   "outputs": [],
   "source": [
    "stargazer1"
   ]
  },
  {
   "cell_type": "code",
   "execution_count": null,
   "metadata": {},
   "outputs": [],
   "source": [
    "stargazer2"
   ]
  },
  {
   "cell_type": "code",
   "execution_count": null,
   "metadata": {},
   "outputs": [],
   "source": [
    "stargazer3"
   ]
  }
 ],
 "metadata": {
  "language_info": {
   "name": "python"
  }
 },
 "nbformat": 4,
 "nbformat_minor": 2
}
