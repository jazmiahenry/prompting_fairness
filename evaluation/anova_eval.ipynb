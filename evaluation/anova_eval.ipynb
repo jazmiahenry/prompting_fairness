{
 "cells": [
  {
   "cell_type": "markdown",
   "metadata": {},
   "source": [
    "# ANOVA Testing Evaluation"
   ]
  },
  {
   "cell_type": "code",
   "execution_count": null,
   "metadata": {},
   "outputs": [],
   "source": [
    "from scipy.stats import f_oneway\n",
    "import pandas as pd"
   ]
  },
  {
   "cell_type": "markdown",
   "metadata": {},
   "source": [
    "## Ingest Data"
   ]
  },
  {
   "cell_type": "code",
   "execution_count": null,
   "metadata": {},
   "outputs": [],
   "source": [
    "df = pd.read_csv('../prompting_fairness_results.csv')"
   ]
  },
  {
   "cell_type": "markdown",
   "metadata": {},
   "source": [
    "df['changed_strategy'] = df['changed_strategy'].replace({'none': 'no', 'maybe': 'yes'})\n",
    "trustee_df = df[df['role'] == 'trustee']\n",
    "persona_trustee = df[df['persona_used'] == 'yes']"
   ]
  },
  {
   "cell_type": "markdown",
   "metadata": {},
   "source": [
    "## Cleaning Data for Model Input"
   ]
  },
  {
   "cell_type": "code",
   "execution_count": null,
   "metadata": {},
   "outputs": [],
   "source": [
    "def dummies(dataframe):\n",
    "    \"\"\"Get dummies for categorical encoding. \n",
    "    \n",
    "    Returns:\n",
    "        df: pandas.Dataframe with dummy variables \n",
    "        \"\"\"\n",
    "    return pd.get_dummies(dataframe)"
   ]
  },
  {
   "cell_type": "code",
   "execution_count": null,
   "metadata": {},
   "outputs": [],
   "source": [
    "regression = df.copy()\n",
    "target = regression['total_money']\n",
    "regression = regression.drop(columns= 'total_money')\n",
    "col_by_dtype = regression.columns.to_series().groupby(regression.dtypes).groups\n",
    "col_by_dtype = {k.name: v for k, v, in col_by_dtype.items()}\n",
    "regression[col_by_dtype['object']]\n",
    "cat_dummies = pd.get_dummies(regression[col_by_dtype['object']])"
   ]
  },
  {
   "cell_type": "code",
   "execution_count": null,
   "metadata": {},
   "outputs": [],
   "source": [
    "persona = persona_trustee.copy()\n",
    "persona = persona.drop(columns= ['role', 'total_money', 'money_given'])\n",
    "pers_by_dtype = persona.columns.to_series().groupby(persona.dtypes).groups\n",
    "pers_by_dtype = {k.name: v for k, v, in pers_by_dtype.items()}\n",
    "persona_dummies = pd.get_dummies(persona[pers_by_dtype['object']])"
   ]
  },
  {
   "cell_type": "code",
   "execution_count": null,
   "metadata": {},
   "outputs": [],
   "source": [
    "trustee = trustee_df.copy()\n",
    "target2 = trustee['money_given']\n",
    "trustee = trustee.drop(columns= ['role', 'total_money', 'money_given'])\n",
    "trust_by_dtype = trustee.columns.to_series().groupby(trustee.dtypes).groups\n",
    "trust_by_dtype = {k.name: v for k, v, in trust_by_dtype.items()}\n",
    "trust_dummies = pd.get_dummies(trustee[trust_by_dtype['object']])"
   ]
  },
  {
   "cell_type": "markdown",
   "metadata": {},
   "source": [
    "anova_input = pd.concat([target, cat_dummies], axis = 1)\n",
    "persona_anova = pd.concat([persona_trustee['money_given'], persona_dummies], axis = 1)"
   ]
  },
  {
   "cell_type": "code",
   "execution_count": null,
   "metadata": {},
   "outputs": [],
   "source": [
    "framed_today_oneway = f_oneway(df['total_money'][df['framed'] == 'no'],\n",
    "         df['total_money'][df['framed'] == 'history'],\n",
    "         df['total_money'][df['framed'] == 'recipient_need'],\n",
    "         df['total_money'][df['framed'] == 'recipient_millionaire'])"
   ]
  },
  {
   "cell_type": "markdown",
   "metadata": {},
   "source": [
    "framed_today_oneway: F_onewayResult(statistic=10.520872299662205, pvalue=4.709405456076698e-06)"
   ]
  },
  {
   "cell_type": "code",
   "execution_count": null,
   "metadata": {},
   "outputs": [],
   "source": [
    "persona_given_oneway = f_oneway(persona_trustee['money_given'][persona_trustee['framed'] == 'recipient_need'],\n",
    "         persona_trustee['money_given'][persona_trustee['framed'] == 'recipient_millionaire'])\n",
    "persona_given_oneway"
   ]
  },
  {
   "cell_type": "markdown",
   "metadata": {},
   "source": [
    "persona_given_oneway: F_onewayResult(statistic=35.32575291948371, pvalue=6.804137621247225e-07)"
   ]
  },
  {
   "cell_type": "code",
   "execution_count": null,
   "metadata": {},
   "outputs": [],
   "source": [
    "trustee_oneway = f_oneway(trustee_df['money_given'][trustee_df['framed'] == 'history'],\n",
    "         trustee_df['money_given'][trustee_df['framed'] == 'recipient_need'],\n",
    "         trustee_df['money_given'][trustee_df['framed'] == 'recipient_millionaire'])\n",
    "trustee_oneway"
   ]
  },
  {
   "cell_type": "markdown",
   "metadata": {},
   "source": [
    "trustee_oneway: F_onewayResult(statistic=32.3168209845946, pvalue=3.3273829866157587e-10)"
   ]
  }
 ],
 "metadata": {
  "language_info": {
   "name": "python"
  }
 },
 "nbformat": 4,
 "nbformat_minor": 2
}
